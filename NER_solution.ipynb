{
  "cells": [
    {
      "cell_type": "code",
      "execution_count": 1,
      "metadata": {
        "id": "FggTJ-A9OOa1"
      },
      "outputs": [],
      "source": [
        "from __future__ import unicode_literals, print_function\n",
        "import plac\n",
        "import random\n",
        "from pathlib import Path\n",
        "import spacy\n",
        "from tqdm import tqdm\n",
        "from spacy.training.example import Example"
      ]
    },
    {
      "cell_type": "markdown",
      "metadata": {
        "id": "4Yf6_IVMOOa4"
      },
      "source": [
        "## Train Data"
      ]
    },
    {
      "cell_type": "code",
      "execution_count": 2,
      "metadata": {
        "id": "eRoOXT1gOOa4"
      },
      "outputs": [],
      "source": [
        "# training data\n",
        "TRAIN_DATA = [(\"IoT based smart water quality monitoring system Varsha Lakshmikantha, Anjitha Hiriyannagowda, Akshay Manjunath, Aruna Patted, Jagadeesh Basavaiah , AudreArlene Anthony\",\n",
        "              {\"entities\":[(0,47,\"Title\"),(48,68,\"Author\"),(70,92,\"Author\"),(94,110,\"Author\"),(112,124,\"Author\"),(126,145,\"Author\"),(148,167,\"Author\")]}),\n",
        "              (\"A Review on Internet of Things (IoT) M.U. Farooq Muhammad Waseem Sadia Mazhar Anjum Khairi Talha Kamal\",\n",
        "               {\"entities\":[(0,36,\"Title\"),(37,48,\"Author\"),(49,64,\"Author\"),(65,77,\"Author\"),(78,90,\"Author\"),(91,102,\"Author\")]}),\n",
        "              (\"Designing a New Generalized Battery Management System John Chatzakis, Kostas Kalaitzakis, Nicholas C. Voulgaris, and Stefanos N. Manias \",\n",
        "               {\"entities\":[(0,53,\"Title\"),(54,68,\"Author\"),(70,88,\"Author\"),(90,111,\"Author\"),(117,135,\"Author\")]}),\n",
        "              (\"Secure Data Acquisition for Battery Management Systems Fikret Basic, Christian Seifert, Christian Steger Robert Kofler\",\n",
        "               {\"entities\":[(0,54,\"Title\"),(55,67,\"Author\"),(69,86,\"Author\"),(88,104,\"Author\"),(105,118,\"Author\")]}),\n",
        "              (\"Digital twin challenges in biodiversity modelling Athanasios Trantas , Ruduan Plug , Paolo Pileggi , Elena Lazovik\",\n",
        "               {\"entities\":[(0,49,\"Title\"),(50,68,\"Author\"),(71,82,\"Author\"),(85,98,\"Author\"),(101,114,\"Author\")]}),\n",
        "              (\"Detection of Domestic Waste Based on YOLO Yaohui Hou\",{\"entities\":[(0,41,\"Title\"),(42,52,\"Author\")]}),\n",
        "              (\"Smart e-waste management system utilizing Internet of Things and Deep Learning approaches Daniel Voskergian , Isam Ishaq\",\n",
        "               {\"entities\":[(0,89,\"Title\"),(90,107,\"Author\"),(110,120,\"Author\")]}),\n",
        "              (\"Fault prediction model in wind turbines using deep learning structure with enhance optimisation algorithm Mahendra Bhatu Gawali, Swapnali Sunil Gawali & Megharani Patil\",\n",
        "               {\"entities\":[(0,105,\"Title\"),(106,127,\"Author\"),(129,150,\"Author\"),(153,168,\"Author\")]}),\n",
        "              (\"Object Detection for Construction Waste Based on an Improved YOLOv5 Model Qinghui Zhou , Haoshi Liu , Yuhang Qiu and Wuchao Zheng\",\n",
        "               {\"entities\":[(0,73,\"Title\"),(74,86,\"Author\"),(89,99,\"Author\"),(102,112,\"Author\"),(117,129,\"Author\")]}),\n",
        "              (\"Region-based Convolutional Networks for Accurate Object Detection and Segmentation Ross Girshick , Jeff Donahue , Trevor Darrell and Jitendra Malik\",\n",
        "               {\"entities\":[(0,82,\"Title\"),(83,96,\"Author\"),(99,111,\"Author\"),(114,128,\"Author\"),(133,147,\"Author\")]}),\n",
        "              (\"Design of Electric Vehicle Battery Management System Qian Liu , Gang Chen\",{\"entities\":[(0,52,\"Title\"),(53,61,\"Author\"),(64,73,\"Author\")]}),\n",
        "              (\"Detection of Cardiovascular Diseases in ECG Images Using Machine Learning and Deep Learning Methods Mohammed B. Abubaker and Bilal Babayigit\",\n",
        "               {\"entities\":[(0,99,\"Title\"),(100,120,\"Author\"),(125,140,\"Author\")]}),\n",
        "              (\"Microsoft Power BI Amrapali Bansal, A. K. Upadhyay\",{\"entities\":[(0,18,\"Title\"),(19,34,\"Author\"),(36,50,\"Author\")]}),\n",
        "              (\"Hybrid deep learning for detecting lung diseases from X-ray images Subrato Bharati , Prajoy Podder, M. Rubaiyat Hossain Mondal \",\n",
        "               {\"entities\":[(0,66,\"Title\"),(67,82,\"Author\"),(85,98,\"Author\"),(100,126,\"Author\")]}),\n",
        "              (\"Detection of Tuberculosis based on Deep Learning based methods Murali Krishna Puttagunta and S. Ravi \",\n",
        "               {\"entities\":[(0,62,\"Title\"),(63,88,\"Author\"),(93,100,\"Author\")]}),\n",
        "              (\"Journal of Physics: Conference Series ( 20 March 2020 )\",{\"entities\":[(0,37,\"Published At\"),(40,53,\"Date of Publishing\")]}),\n",
        "              (\"Elsevier Ltd. ( 30 June 2020 ) \",{\"entities\":[(0,13,\"Published At\"),(16,28,\"Date of Publishing\")]}),\n",
        "              (\"International Journal of Soft Computing and Engineering ( 3 July 2017 ) \",{\"entities\":[(0,55,\"Published At\"),(58,69,\"Date of Publishing\")]}),\n",
        "              (\"IEEE TRANSACTIONS ON ARTIFICIAL INTELLIGENCE ( 2 APRIL 2023 ) \",{\"entities\":[(0,44,\"Published At\"),(47,59,\"Date of Publishing\")]}),\n",
        "              (\"International Conference on Power, Grid and Energy Storage (12 August 2023) \",{\"entities\":[(0,58,\"Published At\"),(60,74,\"Date of Publishing\")]}),\n",
        "              (\"IEEE (26 July 2015) \",{\"entities\":[(0,4,\"Published At\"),(6,18,\"Date of Publishing\")]}),\n",
        "              (\"MDPI ( 28 December 2022 ) \",{\"entities\":[(0,4,\"Published At\"),(7,23,\"Date of Publishing\")]}),\n",
        "              (\"Journal of Control and Decision ( 28 Sep 2023 )\",{\"entities\":[(0,31,\"Published At\"),(34,45,\"Date of Publishing\")]}),\n",
        "              (\"Journal of Smart Cities and Society ( 13 August 2023 ) \",{\"entities\":[(0,35,\"Published At\"),(38,52,\"Date of Publishing\")]}),\n",
        "              (\"Frontiers in Computing and Intelligent Systems ( 2 May 2022 ) \",{\"entities\":[(0,46,\"Published At\"),(49,59,\"Date of Publishing\")]}),\n",
        "              (\"Elsevier Ltd. ( 27 October 2023 ) \",{\"entities\":[(0,13,\"Published At\"),(17,32,\"Date of Publishing\")]}),\n",
        "              (\"Euromicro Conference Series on Digital System Design ( 20 November 2023 ) \",{\"entities\":[(0,52,\"Published At\"),(55,71,\"Date of Publishing\")]}),\n",
        "              (\"IEEE TRANSACTIONS ON INDUSTRIAL ELECTRONICS ( 5 OCTOBER 2003 ) \",{\"entities\":[(0,43,\"Published At\"),(46,60,\"Date of Publishing\")]}),\n",
        "              (\"International Journal of Computer Applications ( 1 March 2015 ) \",{\"entities\":[(0,46,\"Published At\"),(49,61,\"Date of Publishing\")]}),\n",
        "               (\"Global Transitions Proceedings ( 2 July 2021 ) \",{\"entities\":[(0,30,\"Published At\"),(33,44,\"Date of Publishing\")]}),\n",
        "            ]"
      ]
    },
    {
      "cell_type": "markdown",
      "metadata": {
        "id": "NT8ebbHkOOa4"
      },
      "source": [
        "## Define our variables"
      ]
    },
    {
      "cell_type": "code",
      "execution_count": 3,
      "metadata": {
        "id": "C8dcLk4DOOa5"
      },
      "outputs": [],
      "source": [
        "model = None\n",
        "output_dir=Path(\"/ner\")\n",
        "n_iter=100"
      ]
    },
    {
      "cell_type": "markdown",
      "metadata": {
        "id": "i7C0nCylOOa5"
      },
      "source": [
        "## Load the model"
      ]
    },
    {
      "cell_type": "code",
      "execution_count": 4,
      "metadata": {
        "colab": {
          "base_uri": "https://localhost:8080/"
        },
        "id": "U_VT6Q-zOOa5",
        "outputId": "4bee9f87-5ee3-418e-9825-eb6539c934d8"
      },
      "outputs": [
        {
          "name": "stdout",
          "output_type": "stream",
          "text": [
            "Created blank 'en' model\n"
          ]
        }
      ],
      "source": [
        "if model is not None:\n",
        "    nlp = spacy.load(model)\n",
        "    print(\"Loaded model '%s'\" % model)\n",
        "else:\n",
        "    nlp = spacy.blank('en')\n",
        "    print(\"Created blank 'en' model\")"
      ]
    },
    {
      "cell_type": "markdown",
      "metadata": {
        "id": "ZehqDrfJOOa5"
      },
      "source": [
        "## Set up the pipeline"
      ]
    },
    {
      "cell_type": "code",
      "execution_count": 5,
      "metadata": {
        "id": "CVLbWoAFOOa5"
      },
      "outputs": [],
      "source": [
        "if 'ner' not in nlp.pipe_names:\n",
        "    ner = nlp.create_pipe('ner')\n",
        "    nlp.add_pipe('ner', last=True)\n",
        "else:\n",
        "    ner = nlp.get_pipe('ner')"
      ]
    },
    {
      "cell_type": "markdown",
      "metadata": {
        "id": "SUavAXdyOOa6"
      },
      "source": [
        "## Train the Recognizer"
      ]
    },
    {
      "cell_type": "code",
      "execution_count": null,
      "metadata": {
        "id": "zcBmH_0gOOa6"
      },
      "outputs": [],
      "source": [
        "for _, annotations in TRAIN_DATA:\n",
        "    for ent in annotations.get('entities'):\n",
        "        ner.add_label(ent[2])\n",
        "\n",
        "other_pipes = [pipe for pipe in nlp.pipe_names if pipe != 'ner']\n",
        "with nlp.disable_pipes(*other_pipes):  # only train NER\n",
        "    optimizer = nlp.begin_training()\n",
        "    for itn in range(n_iter):\n",
        "        random.shuffle(TRAIN_DATA)\n",
        "        losses = {}\n",
        "        for text, annotations in tqdm(TRAIN_DATA):\n",
        "            doc = nlp.make_doc(text)\n",
        "            example = Example.from_dict(doc, annotations)\n",
        "            nlp.update([example],drop=0.5,sgd=optimizer,losses=losses)\n",
        "        print(losses)"
      ]
    },
    {
      "cell_type": "markdown",
      "metadata": {
        "id": "poxKozhmOOa6"
      },
      "source": [
        "## Test the trained model"
      ]
    },
    {
      "cell_type": "code",
      "execution_count": null,
      "metadata": {
        "id": "wsRbYv2OOOa6"
      },
      "outputs": [],
      "source": [
        "for text, _ in TRAIN_DATA:\n",
        "    doc = nlp(text)\n",
        "    print('Entities', [(ent.text, ent.label_) for ent in doc.ents])\n",
        "    print('Tokens', [(t.text, t.ent_type_, t.ent_iob) for t in doc])"
      ]
    },
    {
      "cell_type": "markdown",
      "metadata": {
        "id": "kcjv17c4OOa6"
      },
      "source": [
        "## Save the model"
      ]
    },
    {
      "cell_type": "code",
      "execution_count": 8,
      "metadata": {
        "colab": {
          "base_uri": "https://localhost:8080/"
        },
        "id": "ckg2hU-COOa7",
        "outputId": "138cde94-cbd3-4f51-904c-1613abaf3ddc"
      },
      "outputs": [
        {
          "name": "stdout",
          "output_type": "stream",
          "text": [
            "Saved model to \\ner\n"
          ]
        }
      ],
      "source": [
        "if output_dir is not None:\n",
        "    output_dir = Path(output_dir)\n",
        "    if not output_dir.exists():\n",
        "        output_dir.mkdir()\n",
        "    nlp.to_disk(output_dir)\n",
        "    print(\"Saved model to\", output_dir)"
      ]
    },
    {
      "cell_type": "markdown",
      "metadata": {
        "id": "iRuq8IRDRKJC"
      },
      "source": [
        "## Test the Saved Model"
      ]
    },
    {
      "cell_type": "code",
      "execution_count": 9,
      "metadata": {
        "colab": {
          "base_uri": "https://localhost:8080/"
        },
        "id": "N7lIrHdKOOa7",
        "outputId": "af1ee216-9da4-49dc-e0ac-a19ebc4ec9bc"
      },
      "outputs": [
        {
          "name": "stdout",
          "output_type": "stream",
          "text": [
            "Title  -->>   IoT based smart water quality monitoring system\n",
            "Author  -->>   Varsha Lakshmikantha\n",
            "Author  -->>   Anjitha Hiriyannagowda\n",
            "Author  -->>   Akshay Manjunath\n",
            "Author  -->>   Aruna Patted\n",
            "Author  -->>   Jagadeesh Basavaiah\n",
            "Author  -->>   AudreArlene Anthony\n",
            "Author  -->>   Global Transitions Proceedings\n",
            "Date of Publishing  -->>   2 July 2021\n"
          ]
        }
      ],
      "source": [
        "#Testing the trained model\n",
        "doc=nlp(\"IoT based smart water quality monitoring system Varsha Lakshmikantha, Anjitha Hiriyannagowda, Akshay Manjunath, Aruna Patted, Jagadeesh Basavaiah , AudreArlene Anthony Global Transitions Proceedings  ( 2 July 2021 )\")\n",
        "for ent in doc.ents:\n",
        "    print(ent.label_+ '  -->>   ' + ent.text)\n",
        "\n",
        "\n",
        "\"\"\"          Output\n",
        "Title  -->>   IoT based smart water quality monitoring system\n",
        "Author  -->>   Varsha Lakshmikantha\n",
        "Author  -->>   Anjitha Hiriyannagowda\n",
        "Author  -->>   Akshay Manjunath\n",
        "Author  -->>   Aruna Patted\n",
        "Author  -->>   Jagadeesh Basavaiah\n",
        "Author  -->>   AudreArlene Anthony\n",
        "Author  -->>   Global Transitions Proceedings\n",
        "Date of Publishing  -->>   2 July 2021\"\"\"\n"
      ]
    },
    {
      "cell_type": "code",
      "execution_count": 10,
      "metadata": {
        "colab": {
          "base_uri": "https://localhost:8080/"
        },
        "id": "N7lIrHdKOOa7",
        "outputId": "af1ee216-9da4-49dc-e0ac-a19ebc4ec9bc"
      },
      "outputs": [
        {
          "name": "stdout",
          "output_type": "stream",
          "text": [
            "Title  -->>   Smart e-waste management system utilizing Internet of Things and Deep Learning approaches\n",
            "Author  -->>   Daniel Voskergian\n",
            "Author  -->>   Isam Ishaq\n",
            "Published At  -->>   Journal of Smart Cities and Society\n",
            "Date of Publishing  -->>   13 August 2023\n"
          ]
        }
      ],
      "source": [
        "#Testing the trained model\n",
        "doc=nlp(\"Smart e-waste management system utilizing Internet of Things and Deep Learning approaches Daniel Voskergian , Isam Ishaq Journal of Smart Cities and Society ( 13 August 2023 )\")\n",
        "for ent in doc.ents:\n",
        "    print(ent.label_+ '  -->>   ' + ent.text)\n",
        "\n",
        "\n",
        "\"\"\"               Output \n",
        "Title  -->>   Smart e-waste management system utilizing Internet of Things and Deep Learning approaches\n",
        "Author  -->>   Daniel Voskergian\n",
        "Author  -->>   Isam Ishaq\n",
        "Published At  -->>   Journal of Smart Cities and Society\n",
        "Date of Publishing  -->>   13 August 2023\"\"\""
      ]
    }
  ],
  "metadata": {
    "colab": {
      "provenance": []
    },
    "kernelspec": {
      "display_name": "Python 3.11.3 ('base')",
      "language": "python",
      "name": "python3"
    },
    "language_info": {
      "codemirror_mode": {
        "name": "ipython",
        "version": 3
      },
      "file_extension": ".py",
      "mimetype": "text/x-python",
      "name": "python",
      "nbconvert_exporter": "python",
      "pygments_lexer": "ipython3",
      "version": "3.11.3"
    },
    "vscode": {
      "interpreter": {
        "hash": "3c06e3e46abf38078fe4dac36a0085ec2b134ebbd73dd076183d243eeca6918f"
      }
    }
  },
  "nbformat": 4,
  "nbformat_minor": 0
}
